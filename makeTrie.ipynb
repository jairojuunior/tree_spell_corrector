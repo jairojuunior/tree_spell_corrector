{
 "cells": [
  {
   "cell_type": "code",
   "execution_count": 1,
   "metadata": {},
   "outputs": [],
   "source": [
    "!rm a\n",
    "!ls df >> a\n",
    "letras  = open('a','r').read().split('\\n')[:-1]"
   ]
  },
  {
   "cell_type": "code",
   "execution_count": 10,
   "metadata": {},
   "outputs": [],
   "source": [
    "import trie"
   ]
  },
  {
   "cell_type": "code",
   "execution_count": 11,
   "metadata": {},
   "outputs": [],
   "source": [
    "root = trie.TrieNode('*')\n",
    "trie.load_trie_from_csv(root, 'df/')"
   ]
  },
  {
   "cell_type": "code",
   "execution_count": 4,
   "metadata": {},
   "outputs": [],
   "source": []
  },
  {
   "cell_type": "code",
   "execution_count": 16,
   "metadata": {},
   "outputs": [
    {
     "data": {
      "text/markdown": [
       " _v. i._ Descansar no somno. Passar as noites: _dormir fóra de casa_. Estar immóvel. Perder o movimento orgânico. Descansar no somno da morte. Tranquillizar-se. Sêr descuidado. Estar entorpecido. Estar latente. _V. t._ Passar (um espaço de tempo), dormindo: _dormir seis horas_. * _V. p. Prov. trasm._ O mesmo que _adormecer_. _M._ Estado de quem dorme: _tem um dormir agitado_. (Lat. _dormire_)\n"
      ],
      "text/plain": [
       "<IPython.core.display.Markdown object>"
      ]
     },
     "metadata": {},
     "output_type": "display_data"
    }
   ],
   "source": [
    "# Example of reading from csv\n",
    "node = trie.get_prefix(root, 'dormir')\n",
    "\n",
    "if node.is_final:\n",
    "    printmd(trie.get_description(node))\n",
    "else:\n",
    "    print(\"Palavra não encontrada\")"
   ]
  },
  {
   "cell_type": "code",
   "execution_count": null,
   "metadata": {},
   "outputs": [],
   "source": []
  },
  {
   "cell_type": "code",
   "execution_count": null,
   "metadata": {},
   "outputs": [],
   "source": []
  },
  {
   "cell_type": "code",
   "execution_count": null,
   "metadata": {},
   "outputs": [],
   "source": []
  },
  {
   "cell_type": "code",
   "execution_count": null,
   "metadata": {},
   "outputs": [],
   "source": []
  },
  {
   "cell_type": "code",
   "execution_count": null,
   "metadata": {},
   "outputs": [],
   "source": []
  },
  {
   "cell_type": "code",
   "execution_count": null,
   "metadata": {},
   "outputs": [],
   "source": []
  },
  {
   "cell_type": "markdown",
   "metadata": {},
   "source": [
    "for letra in letras:\n",
    "    arq = (\"df/\"+letra)\n",
    "    \n",
    "    fin = open(arq, \"rt\")\n",
    "\n",
    "    data = fin.read()\n",
    "    #import pdb;pdb.set_trace()\n",
    "    \n",
    "    data = data.replace('\\n\\n', '¨')\n",
    "    data = data.replace('\\n', ' ')\n",
    "    data = data.replace('¨', '\\n')\n",
    "    data = data.replace('*,','*¨')    \n",
    "    data = data.replace(\"* *\", \"*\")\n",
    "\n",
    "    \n",
    "    fin.close()\n",
    "    \n",
    "    fin = open(arq, \"wt\")\n",
    "    fin.write(data)\n",
    "    fin.close()\n",
    "    "
   ]
  },
  {
   "cell_type": "code",
   "execution_count": null,
   "metadata": {},
   "outputs": [],
   "source": [
    "#import pandas as pd\n",
    "#import time\n",
    "#for letra in letras:\n",
    "#    print(letra)\n",
    "#    pd.read_csv('df/'+letra, sep='¨',engine='python',header=None, error_bad_lines=False)\n",
    "    #time.sleep(1)"
   ]
  },
  {
   "cell_type": "code",
   "execution_count": null,
   "metadata": {},
   "outputs": [],
   "source": []
  },
  {
   "cell_type": "code",
   "execution_count": null,
   "metadata": {},
   "outputs": [],
   "source": []
  },
  {
   "cell_type": "code",
   "execution_count": null,
   "metadata": {},
   "outputs": [],
   "source": []
  },
  {
   "cell_type": "code",
   "execution_count": null,
   "metadata": {},
   "outputs": [],
   "source": []
  }
 ],
 "metadata": {
  "kernelspec": {
   "display_name": "Python 3",
   "language": "python",
   "name": "python3"
  },
  "language_info": {
   "codemirror_mode": {
    "name": "ipython",
    "version": 3
   },
   "file_extension": ".py",
   "mimetype": "text/x-python",
   "name": "python",
   "nbconvert_exporter": "python",
   "pygments_lexer": "ipython3",
   "version": "3.7.4"
  }
 },
 "nbformat": 4,
 "nbformat_minor": 2
}
