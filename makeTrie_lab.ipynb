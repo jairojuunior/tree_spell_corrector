{
 "cells": [
  {
   "cell_type": "code",
   "execution_count": 1,
   "metadata": {},
   "outputs": [],
   "source": [
    "%load_ext memory_profiler"
   ]
  },
  {
   "cell_type": "code",
   "execution_count": null,
   "metadata": {
    "collapsed": true
   },
   "outputs": [],
   "source": [
    "!rm a\n",
    "!ls df >> a\n",
    "letras  = open('a','r').read().split('\\n')[:-1]"
   ]
  },
  {
   "cell_type": "code",
   "execution_count": 2,
   "metadata": {
    "collapsed": true
   },
   "outputs": [],
   "source": [
    "import trie"
   ]
  },
  {
   "cell_type": "code",
   "execution_count": null,
   "metadata": {},
   "outputs": [],
   "source": [
    "raiz = trie.TrieNode('*')\n"
   ]
  },
  {
   "cell_type": "code",
   "execution_count": null,
   "metadata": {},
   "outputs": [],
   "source": [
    "import pandas as pd"
   ]
  },
  {
   "cell_type": "code",
   "execution_count": 6,
   "metadata": {},
   "outputs": [],
   "source": [
    "import mprof"
   ]
  },
  {
   "cell_type": "code",
   "execution_count": null,
   "metadata": {},
   "outputs": [],
   "source": [
    "!python -m memory_profiler --pdb-mmem=100 profile.py"
   ]
  },
  {
   "cell_type": "code",
   "execution_count": null,
   "metadata": {},
   "outputs": [],
   "source": [
    "# Example of reading from csv\n",
    "node = trie.get_prefix(root, 'lucas')\n",
    "\n",
    "if node.is_final:\n",
    "    trie.printmd(trie.get_description(node))\n",
    "else:\n",
    "    print(\"Palavra não encontrada\")"
   ]
  },
  {
   "cell_type": "code",
   "execution_count": 26,
   "metadata": {},
   "outputs": [
    {
     "data": {
      "image/png": "[encoded data removed]",
      "text/plain": [
       "<Figure size 432x288 with 1 Axes>"
      ]
     },
     "metadata": {},
     "output_type": "display_data"
    }
   ],
   "source": [
    "valor = plot_file(\"mprofile_20191114222346.dat\")"
   ]
  },
  {
   "cell_type": "code",
   "execution_count": null,
   "metadata": {},
   "outputs": [],
   "source": []
  },
  {
   "cell_type": "code",
   "execution_count": null,
   "metadata": {},
   "outputs": [],
   "source": []
  },
  {
   "cell_type": "code",
   "execution_count": 22,
   "metadata": {
    "collapsed": true
   },
   "outputs": [],
   "source": [
    "from collections import defaultdict\n",
    "import time, math"
   ]
  },
  {
   "cell_type": "code",
   "execution_count": 32,
   "metadata": {},
   "outputs": [],
   "source": [
    "def plot_file(filename, index=0, timestamps=True, children=True, options=None):\n",
    "    \n",
    "    from scipy.optimize import curve_fit\n",
    " \n",
    "    try:\n",
    "        import pylab as pl\n",
    "    except ImportError as e:\n",
    "        print(\"matplotlib is needed for plotting.\")\n",
    "        print(e)\n",
    "        sys.exit(1)\n",
    "    import numpy as np  # pylab requires numpy anyway\n",
    "    mprofile = read_mprofile_file(filename)\n",
    "\n",
    "    if len(mprofile['timestamp']) == 0:\n",
    "        print('** No memory usage values have been found in the profile '\n",
    "              'file.**\\nFile path: {0}\\n'\n",
    "              'File may be empty or invalid.\\n'\n",
    "              'It can be deleted with \"mprof rm {0}\"'.format(\n",
    "            mprofile['filename']))\n",
    "        sys.exit(0)\n",
    "\n",
    "    # Merge function timestamps and memory usage together\n",
    "    ts = mprofile['func_timestamp']\n",
    "    t = mprofile['timestamp']\n",
    "    mem = mprofile['mem_usage']\n",
    "    chld = mprofile['children']\n",
    "\n",
    "    if len(ts) > 0:\n",
    "        for values in ts.values():\n",
    "            for v in values:\n",
    "                t.extend(v[:2])\n",
    "                mem.extend(v[2:4])\n",
    "\n",
    "    mem = np.asarray(mem)\n",
    "    t = np.asarray(t)\n",
    "    ind = t.argsort()\n",
    "    mem = mem[ind]\n",
    "    t = t[ind]\n",
    "\n",
    "    # Plot curves\n",
    "    global_start = float(t[0])\n",
    "    t = t - global_start\n",
    "\n",
    "    max_mem = mem.max()\n",
    "    max_mem_ind = mem.argmax()\n",
    "\n",
    "    all_colors = (\"c\", \"y\", \"g\", \"r\", \"b\")\n",
    "    mem_line_colors = (\"k\", \"b\", \"r\", \"g\", \"c\", \"y\", \"m\")\n",
    "    mem_line_label = time.strftime(\"%d / %m / %Y - start at %H:%M:%S\",\n",
    "                                   time.localtime(global_start)) \\\n",
    "                     + \".{0:03d}\".format(int(round(math.modf(global_start)[0] * 1000)))\n",
    "\n",
    "    pl.plot(t, mem, \"+-\" + mem_line_colors[index % len(mem_line_colors)],\n",
    "            label=mem_line_label)\n",
    "\n",
    "    bottom, top = pl.ylim()\n",
    "    bottom += 0.001\n",
    "    top -= 0.001\n",
    "    \n",
    "    \n",
    "    # plot children, if any\n",
    "    if len(chld) > 0 and children:\n",
    "        cmpoint = (0,0) # maximal child memory\n",
    "\n",
    "        for idx, (proc, data) in enumerate(chld.items()):\n",
    "            # Create the numpy arrays from the series data\n",
    "            cts  = np.asarray([item[1] for item in data]) - global_start\n",
    "            cmem = np.asarray([item[0] for item in data])\n",
    "\n",
    "            # Plot the line to the figure\n",
    "            pl.plot(cts, cmem, \"+-\"  + mem_line_colors[(idx+1) % len(mem_line_colors)],\n",
    "                     label=\"child {}\".format(proc))\n",
    "\n",
    "            # Detect the maximal child memory point\n",
    "            cmax_mem = cmem.max()\n",
    "            if cmax_mem > cmpoint[1]:\n",
    "                cmpoint = (cts[cmem.argmax()], cmax_mem)\n",
    "\n",
    "        # Add the marker lines for the maximal child memory usage\n",
    "        pl.vlines(cmpoint[0], pl.ylim()[0]+0.001, pl.ylim()[1] - 0.001, 'r', '--')\n",
    "        pl.hlines(cmpoint[1], pl.xlim()[0]+0.001, pl.xlim()[1] - 0.001, 'r', '--')\n",
    "\n",
    "    # plot timestamps, if any\n",
    "    if len(ts) > 0 and timestamps:\n",
    "        func_num = 0\n",
    "        for f, exec_ts in ts.items():\n",
    "            for execution in exec_ts:\n",
    "                add_brackets(execution[:2], execution[2:], xshift=global_start,\n",
    "                             color=all_colors[func_num % len(all_colors)],\n",
    "                             label=f.split(\".\")[-1]\n",
    "                                   + \" %.3fs\" % (execution[1] - execution[0]), options=options)\n",
    "            func_num += 1\n",
    "\n",
    "    if timestamps:\n",
    "        pl.hlines(max_mem,\n",
    "                  pl.xlim()[0] + 0.001, pl.xlim()[1] - 0.001,\n",
    "                  colors=\"r\", linestyles=\"--\")\n",
    "        pl.vlines(t[max_mem_ind], bottom, top,\n",
    "                  colors=\"r\", linestyles=\"--\")\n",
    "        \n",
    "    pl.show()\n",
    "    return mprofile\n"
   ]
  },
  {
   "cell_type": "code",
   "execution_count": 16,
   "metadata": {
    "collapsed": true
   },
   "outputs": [],
   "source": [
    "def read_mprofile_file(filename):\n",
    "    \"\"\"Read an mprofile file and return its content.\n",
    "\n",
    "    Returns\n",
    "    =======\n",
    "    content: dict\n",
    "        Keys:\n",
    "\n",
    "        - \"mem_usage\": (list) memory usage values, in MiB\n",
    "        - \"timestamp\": (list) time instant for each memory usage value, in\n",
    "            second\n",
    "        - \"func_timestamp\": (dict) for each function, timestamps and memory\n",
    "            usage upon entering and exiting.\n",
    "        - 'cmd_line': (str) command-line ran for this profile.\n",
    "    \"\"\"\n",
    "    func_ts = {}\n",
    "    mem_usage = []\n",
    "    timestamp = []\n",
    "    children  = defaultdict(list)\n",
    "    cmd_line = None\n",
    "    f = open(filename, \"r\")\n",
    "    for l in f:\n",
    "        if l == '\\n':\n",
    "            raise ValueError('Sampling time was too short')\n",
    "        field, value = l.split(' ', 1)\n",
    "        if field == \"MEM\":\n",
    "            # mem, timestamp\n",
    "            values = value.split(' ')\n",
    "            mem_usage.append(float(values[0]))\n",
    "            timestamp.append(float(values[1]))\n",
    "\n",
    "        elif field == \"FUNC\":\n",
    "            values = value.split(' ')\n",
    "            f_name, mem_start, start, mem_end, end = values[:5]\n",
    "            ts = func_ts.get(f_name, [])\n",
    "            ts.append([float(start), float(end),\n",
    "                       float(mem_start), float(mem_end)])\n",
    "            func_ts[f_name] = ts\n",
    "\n",
    "        elif field == \"CHLD\":\n",
    "            values = value.split(' ')\n",
    "            chldnum = values[0]\n",
    "            children[chldnum].append(\n",
    "                (float(values[1]), float(values[2]))\n",
    "            )\n",
    "\n",
    "        elif field == \"CMDLINE\":\n",
    "            cmd_line = value\n",
    "        else:\n",
    "            pass\n",
    "    f.close()\n",
    "\n",
    "    return {\"mem_usage\": mem_usage, \"timestamp\": timestamp,\n",
    "            \"func_timestamp\": func_ts, 'filename': filename,\n",
    "            'cmd_line': cmd_line, 'children': children}\n",
    "\n"
   ]
  },
  {
   "cell_type": "code",
   "execution_count": null,
   "metadata": {
    "collapsed": true
   },
   "outputs": [],
   "source": []
  },
  {
   "cell_type": "code",
   "execution_count": null,
   "metadata": {
    "collapsed": true
   },
   "outputs": [],
   "source": []
  },
  {
   "cell_type": "code",
   "execution_count": null,
   "metadata": {
    "collapsed": true
   },
   "outputs": [],
   "source": []
  },
  {
   "cell_type": "markdown",
   "metadata": {},
   "source": [
    "for letra in letras:\n",
    "    arq = (\"df/\"+letra)\n",
    "    \n",
    "    fin = open(arq, \"rt\")\n",
    "\n",
    "    data = fin.read()\n",
    "    #import pdb;pdb.set_trace()\n",
    "    \n",
    "    data = data.replace('\\n\\n', '¨')\n",
    "    data = data.replace('\\n', ' ')\n",
    "    data = data.replace('¨', '\\n')\n",
    "    data = data.replace('*,','*¨')    \n",
    "    data = data.replace(\"* *\", \"*\")\n",
    "\n",
    "    \n",
    "    fin.close()\n",
    "    \n",
    "    fin = open(arq, \"wt\")\n",
    "    fin.write(data)\n",
    "    fin.close()\n",
    "    "
   ]
  },
  {
   "cell_type": "code",
   "execution_count": null,
   "metadata": {
    "collapsed": true
   },
   "outputs": [],
   "source": [
    "#import pandas as pd\n",
    "#import time\n",
    "#for letra in letras:\n",
    "#    print(letra)\n",
    "#    pd.read_csv('df/'+letra, sep='¨',engine='python',header=None, error_bad_lines=False)\n",
    "    #time.sleep(1)"
   ]
  },
  {
   "cell_type": "code",
   "execution_count": null,
   "metadata": {
    "collapsed": true
   },
   "outputs": [],
   "source": []
  },
  {
   "cell_type": "code",
   "execution_count": null,
   "metadata": {
    "collapsed": true
   },
   "outputs": [],
   "source": []
  },
  {
   "cell_type": "code",
   "execution_count": null,
   "metadata": {
    "collapsed": true
   },
   "outputs": [],
   "source": []
  },
  {
   "cell_type": "code",
   "execution_count": null,
   "metadata": {
    "collapsed": true
   },
   "outputs": [],
   "source": []
  }
 ],
 "metadata": {
  "kernelspec": {
   "display_name": "Python 3",
   "language": "python",
   "name": "python3"
  },
  "language_info": {
   "codemirror_mode": {
    "name": "ipython",
    "version": 3
   },
   "file_extension": ".py",
   "mimetype": "text/x-python",
   "name": "python",
   "nbconvert_exporter": "python",
   "pygments_lexer": "ipython3",
   "version": "3.6.9"
  }
 },
 "nbformat": 4,
 "nbformat_minor": 2
}
